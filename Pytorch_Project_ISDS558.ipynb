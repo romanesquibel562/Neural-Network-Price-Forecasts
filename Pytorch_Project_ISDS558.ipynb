{
 "cells": [
  {
   "cell_type": "code",
   "execution_count": 45,
   "metadata": {},
   "outputs": [],
   "source": [
    "import pandas as pd\n",
    "import numpy as np\n",
    "import matplotlib.pyplot as plt\n",
    "import torch\n",
    "import torch.nn as nn\n",
    "import torch.optim as optim\n",
    "import requests\n",
    "from sklearn.preprocessing import MinMaxScaler\n",
    "from sklearn.model_selection import train_test_split\n",
    "from sklearn.metrics import mean_squared_error, mean_absolute_error\n",
    "import yfinance as yf\n",
    "import time\n",
    "import threading\n",
    "import queue"
   ]
  },
  {
   "cell_type": "code",
   "execution_count": 46,
   "metadata": {},
   "outputs": [],
   "source": [
    "import logging\n",
    "logging.basicConfig(level=logging.INFO, format='%(asctime)s - %(levelname)s - %(message)s', datefmt='%m/%d/%Y %H:%M:%S')\n",
    "logger = logging.getLogger()"
   ]
  },
  {
   "cell_type": "code",
   "execution_count": 47,
   "metadata": {},
   "outputs": [],
   "source": [
    "ticker = 'NVDA'\n",
    "\n",
    "scaler = MinMaxScaler(feature_range=(0, 1))\n",
    "\n",
    "prediction_queue = queue.Queue()"
   ]
  },
  {
   "cell_type": "code",
   "execution_count": 48,
   "metadata": {},
   "outputs": [
    {
     "name": "stderr",
     "output_type": "stream",
     "text": [
      "[*********************100%***********************]  1 of 1 completed\n",
      "04/08/2025 14:47:39 - INFO - Latest NVDA Data Updated at 2025-04-08 19:30:00+00:00\n"
     ]
    }
   ],
   "source": [
    "def fetch_stock_data():\n",
    "    \"\"\"Fetch latest NVDA stock data and preprocess it.\"\"\"\n",
    "    global df_scaled  \n",
    "\n",
    "    try:\n",
    "        # Fetch last 100 days of hourly data\n",
    "        stock_data = yf.download(ticker, period=\"100d\", interval=\"1h\")\n",
    "\n",
    "        # Check if data is empty\n",
    "        if stock_data.empty:\n",
    "            logger.warning(\"No new stock data available. Skipping update.\")\n",
    "            return None  \n",
    "\n",
    "        df = stock_data[['Close']]  \n",
    "\n",
    "        # Scale the data\n",
    "        scaled_data = scaler.fit_transform(df)\n",
    "        df_scaled = pd.DataFrame(scaled_data, columns=['Close'], index=df.index)\n",
    "\n",
    "        logger.info(f\"Latest NVDA Data Updated at {df.index[-1]}\")\n",
    "        return df_scaled\n",
    "\n",
    "    except Exception as e:\n",
    "        logger.error(f\"Error fetching stock data: {e}\")\n",
    "        return None  \n",
    "\n",
    "# Fetch initial dataset\n",
    "df_scaled = fetch_stock_data()"
   ]
  },
  {
   "cell_type": "code",
   "execution_count": 49,
   "metadata": {},
   "outputs": [],
   "source": [
    "def real_time_update(interval=600):\n",
    "    \"\"\"Update stock data every 10 minutes.\"\"\"\n",
    "    while True:\n",
    "        df_scaled = fetch_stock_data()\n",
    "        if df_scaled is not None:\n",
    "            logger.info(\"Stock data successfully updated.\")\n",
    "        else:\n",
    "            logger.warning(\"Failed to update stock data.\")\n",
    "\n",
    "        logger.info(f\"Waiting {interval // 60} minutes for next update...\")\n",
    "        time.sleep(interval)\n",
    "\n",
    "# real_time_update()"
   ]
  },
  {
   "cell_type": "code",
   "execution_count": 50,
   "metadata": {},
   "outputs": [
    {
     "name": "stderr",
     "output_type": "stream",
     "text": [
      "04/08/2025 14:47:39 - INFO - Data split into train and test sets. Train size: 553, Test size: 139\n"
     ]
    }
   ],
   "source": [
    "def split_data():\n",
    "    \"\"\"Split data into training and test sets.\"\"\"\n",
    "    global df_scaled\n",
    "\n",
    "    if df_scaled is None:\n",
    "        logger.error(\"No data to split.\")\n",
    "        return None, None\n",
    "    \n",
    "    train_size = int(len(df_scaled) * 0.80)\n",
    "    \n",
    "    train_data = df_scaled.iloc[:train_size]\n",
    "    test_data = df_scaled.iloc[train_size:]\n",
    "\n",
    "    logger.info(f\"Data split into train and test sets. Train size: {len(train_data)}, Test size: {len(test_data)}\")\n",
    "\n",
    "    return train_data, test_data\n",
    "\n",
    "train_data, test_data = split_data()"
   ]
  },
  {
   "cell_type": "code",
   "execution_count": 51,
   "metadata": {},
   "outputs": [
    {
     "name": "stderr",
     "output_type": "stream",
     "text": [
      "04/08/2025 14:47:39 - INFO - x_train shape: torch.Size([493, 60, 1]), y_train shape: torch.Size([493, 1])\n"
     ]
    }
   ],
   "source": [
    "def create_data_sequence(data, seq_length=60):\n",
    "    \"\"\"Create sequences of data.\"\"\"\n",
    "    X, y = [], []\n",
    "    for i in range(len(data) - seq_length):\n",
    "        #last day sequence length\n",
    "        X.append(data.iloc[i:i + seq_length].values)\n",
    "        #next day close price\n",
    "        y.append(data.iloc[i + seq_length].values)\n",
    "    return np.array(X), np.array(y)\n",
    "\n",
    "\n",
    "#Generate sequences of data\n",
    "if train_data is not None and test_data is not None:\n",
    "    seq_length = 60\n",
    "    X_train, y_train = create_data_sequence(train_data, seq_length=60)\n",
    "    X_test, y_test = create_data_sequence(test_data, seq_length=60)\n",
    "\n",
    "    #Convert to PyTorch tensors\n",
    "    X_train = torch.tensor(X_train, dtype=torch.float32)\n",
    "    y_train = torch.tensor(y_train, dtype=torch.float32)\n",
    "    X_test = torch.tensor(X_test, dtype=torch.float32)\n",
    "    y_test = torch.tensor(y_test, dtype=torch.float32)\n",
    "\n",
    "    logger.info(f\"x_train shape: {X_train.shape}, y_train shape: {y_train.shape}\")\n",
    "else:\n",
    "    logger.warning(\"No data to create sequences.\")\n",
    "\n"
   ]
  },
  {
   "cell_type": "code",
   "execution_count": 52,
   "metadata": {},
   "outputs": [],
   "source": [
    "def plot_data():\n",
    "    \"\"\"Plot stock data.\"\"\"\n",
    "    if df_scaled is None or df_scaled.empty:\n",
    "        logger.warning(\"No data to plot.\")\n",
    "        return None\n",
    "\n",
    "    plt.figure(figsize=(12, 6))\n",
    "    plt.title(f\"{ticker} Stock Price\")\n",
    "    plt.plot(df_scaled, label='Close Price')\n",
    "    plt.xlabel('Date')\n",
    "    plt.ylabel('Price')\n",
    "    plt.legend()\n",
    "    plt.show()"
   ]
  },
  {
   "cell_type": "code",
   "execution_count": 53,
   "metadata": {},
   "outputs": [],
   "source": [
    "class StockLSTM(nn.Module):\n",
    "    def __init__(self, input_size=1, hidden_layer_size=128, num_layers=3, output_size=1):\n",
    "        super(StockLSTM, self).__init__()\n",
    "        self.lstm = nn.LSTM(input_size, hidden_layer_size, num_layers, batch_first=True)\n",
    "        self.fc = nn.Linear(hidden_layer_size, output_size)\n",
    "\n",
    "    def forward(self, x):\n",
    "        lstm_out, _ = self.lstm(x)\n",
    "        out = self.fc(lstm_out[:, -1, :])\n",
    "        return out\n",
    "    \n",
    "model = StockLSTM()"
   ]
  },
  {
   "cell_type": "code",
   "execution_count": 54,
   "metadata": {},
   "outputs": [],
   "source": [
    "# Define loss function and optimizer\n",
    "criterion = nn.MSELoss()  # Mean Squared Error Loss (for regression)\n",
    "optimizer = optim.Adam(model.parameters(), lr=0.0005)  # Adam optimizer\n"
   ]
  },
  {
   "cell_type": "code",
   "execution_count": 55,
   "metadata": {},
   "outputs": [
    {
     "name": "stderr",
     "output_type": "stream",
     "text": [
      "04/08/2025 14:47:39 - INFO - Epoch 0 - Loss: 0.4703187942504883\n",
      "04/08/2025 14:47:42 - INFO - Epoch 5 - Loss: 0.31429392099380493\n",
      "04/08/2025 14:47:44 - INFO - Epoch 10 - Loss: 0.1327597051858902\n",
      "04/08/2025 14:47:47 - INFO - Epoch 15 - Loss: 0.07460825145244598\n",
      "04/08/2025 14:47:49 - INFO - Epoch 20 - Loss: 0.024859808385372162\n",
      "04/08/2025 14:47:52 - INFO - Epoch 25 - Loss: 0.039780255407094955\n",
      "04/08/2025 14:47:54 - INFO - Epoch 30 - Loss: 0.028635507449507713\n",
      "04/08/2025 14:47:57 - INFO - Epoch 35 - Loss: 0.026346249505877495\n",
      "04/08/2025 14:47:59 - INFO - Epoch 40 - Loss: 0.025853978469967842\n",
      "04/08/2025 14:48:02 - INFO - Epoch 45 - Loss: 0.02388167753815651\n",
      "04/08/2025 14:48:04 - INFO - Epoch 50 - Loss: 0.02382977120578289\n",
      "04/08/2025 14:48:07 - INFO - Epoch 55 - Loss: 0.022060643881559372\n",
      "04/08/2025 14:48:10 - INFO - Epoch 60 - Loss: 0.02157416380941868\n",
      "04/08/2025 14:48:12 - INFO - Epoch 65 - Loss: 0.0200567115098238\n",
      "04/08/2025 14:48:15 - INFO - Epoch 70 - Loss: 0.018521346151828766\n",
      "04/08/2025 14:48:18 - INFO - Epoch 75 - Loss: 0.016583379358053207\n",
      "04/08/2025 14:48:21 - INFO - Epoch 80 - Loss: 0.013733873143792152\n",
      "04/08/2025 14:48:24 - INFO - Epoch 85 - Loss: 0.011114994995296001\n",
      "04/08/2025 14:48:27 - INFO - Epoch 90 - Loss: 0.010441329330205917\n",
      "04/08/2025 14:48:29 - INFO - Epoch 95 - Loss: 0.009631323628127575\n",
      "04/08/2025 14:48:32 - INFO - Epoch 100 - Loss: 0.008637528866529465\n",
      "04/08/2025 14:48:35 - INFO - Epoch 105 - Loss: 0.008098018355667591\n",
      "04/08/2025 14:48:38 - INFO - Epoch 110 - Loss: 0.007557421922683716\n",
      "04/08/2025 14:48:40 - INFO - Epoch 115 - Loss: 0.007055781781673431\n",
      "04/08/2025 14:48:43 - INFO - Epoch 120 - Loss: 0.006675830576568842\n",
      "04/08/2025 14:48:45 - INFO - Epoch 125 - Loss: 0.006297757383435965\n",
      "04/08/2025 14:48:48 - INFO - Epoch 130 - Loss: 0.00593628641217947\n",
      "04/08/2025 14:48:51 - INFO - Epoch 135 - Loss: 0.005595827475190163\n",
      "04/08/2025 14:48:53 - INFO - Epoch 140 - Loss: 0.005229276604950428\n",
      "04/08/2025 14:48:56 - INFO - Epoch 145 - Loss: 0.004831577185541391\n",
      "04/08/2025 14:48:58 - INFO - Epoch 150 - Loss: 0.004432810936123133\n",
      "04/08/2025 14:49:01 - INFO - Epoch 155 - Loss: 0.004124506376683712\n",
      "04/08/2025 14:49:03 - INFO - Epoch 160 - Loss: 0.003936424385756254\n",
      "04/08/2025 14:49:06 - INFO - Epoch 165 - Loss: 0.003779547056183219\n",
      "04/08/2025 14:49:09 - INFO - Epoch 170 - Loss: 0.003641335992142558\n",
      "04/08/2025 14:49:11 - INFO - Epoch 175 - Loss: 0.003553277812898159\n",
      "04/08/2025 14:49:14 - INFO - Epoch 180 - Loss: 0.0034944522194564342\n",
      "04/08/2025 14:49:17 - INFO - Epoch 185 - Loss: 0.0034439456649124622\n",
      "04/08/2025 14:49:19 - INFO - Epoch 190 - Loss: 0.003397893626242876\n",
      "04/08/2025 14:49:22 - INFO - Epoch 195 - Loss: 0.003355508903041482\n",
      "04/08/2025 14:49:25 - INFO - Epoch 200 - Loss: 0.0033134552650153637\n",
      "04/08/2025 14:49:27 - INFO - Epoch 205 - Loss: 0.003272139932960272\n",
      "04/08/2025 14:49:30 - INFO - Epoch 210 - Loss: 0.003231814131140709\n",
      "04/08/2025 14:49:32 - INFO - Epoch 215 - Loss: 0.003191909519955516\n",
      "04/08/2025 14:49:35 - INFO - Epoch 220 - Loss: 0.003152604214847088\n",
      "04/08/2025 14:49:38 - INFO - Epoch 225 - Loss: 0.003113700309768319\n",
      "04/08/2025 14:49:40 - INFO - Epoch 230 - Loss: 0.003074988489970565\n",
      "04/08/2025 14:49:43 - INFO - Epoch 235 - Loss: 0.0030363951809704304\n",
      "04/08/2025 14:49:46 - INFO - Epoch 240 - Loss: 0.002997731789946556\n",
      "04/08/2025 14:49:48 - INFO - Epoch 245 - Loss: 0.002958869095891714\n",
      "04/08/2025 14:49:51 - INFO - Epoch 250 - Loss: 0.002919676247984171\n",
      "04/08/2025 14:49:54 - INFO - Epoch 255 - Loss: 0.0028800286818295717\n",
      "04/08/2025 14:49:57 - INFO - Epoch 260 - Loss: 0.00283987307921052\n",
      "04/08/2025 14:50:00 - INFO - Epoch 265 - Loss: 0.0028406199999153614\n",
      "04/08/2025 14:50:03 - INFO - Epoch 270 - Loss: 0.0028744982555508614\n",
      "04/08/2025 14:50:06 - INFO - Epoch 275 - Loss: 0.002768284874036908\n",
      "04/08/2025 14:50:08 - INFO - Epoch 280 - Loss: 0.002731958171352744\n",
      "04/08/2025 14:50:10 - INFO - Epoch 285 - Loss: 0.0026739637833088636\n",
      "04/08/2025 14:50:12 - INFO - Epoch 290 - Loss: 0.0026136620435863733\n",
      "04/08/2025 14:50:15 - INFO - Epoch 295 - Loss: 0.0025722752325236797\n"
     ]
    }
   ],
   "source": [
    "num_epochs = 300\n",
    "patience = 15\n",
    "best_loss = float('inf')\n",
    "epochs_without_improvement = 0\n",
    "\n",
    "for epoch in range(num_epochs):\n",
    "    model.train()\n",
    "    outputs = model(X_train)\n",
    "    optimizer.zero_grad()\n",
    "    loss = criterion(outputs, y_train)\n",
    "    loss.backward()\n",
    "    optimizer.step()\n",
    "    \n",
    "    if epoch % 5 == 0:\n",
    "        logger.info(f'Epoch {epoch} - Loss: {loss.item()}')\n",
    "    \n",
    "    if loss.item() < best_loss:\n",
    "        best_loss = loss.item()\n",
    "        epochs_without_improvement = 0\n",
    "    else:\n",
    "        epochs_without_improvement += 1\n",
    "        if epochs_without_improvement >= patience:\n",
    "            logger.info(f\"Early stopping at epoch {epoch}. Best loss: {best_loss:.4f}\")\n",
    "            break\n"
   ]
  },
  {
   "cell_type": "code",
   "execution_count": 56,
   "metadata": {},
   "outputs": [
    {
     "name": "stderr",
     "output_type": "stream",
     "text": [
      "04/08/2025 14:50:17 - INFO - Model training complete. Saved as stock_lstm.pth\n"
     ]
    }
   ],
   "source": [
    "torch.save(model.state_dict(), \"stock_lstm.pth\")\n",
    "logger.info(\"Model training complete. Saved as stock_lstm.pth\")\n"
   ]
  },
  {
   "cell_type": "code",
   "execution_count": 57,
   "metadata": {},
   "outputs": [
    {
     "name": "stderr",
     "output_type": "stream",
     "text": [
      "04/08/2025 14:50:17 - INFO - Model loaded successfully for predictions.\n"
     ]
    }
   ],
   "source": [
    "# Load trained model\n",
    "model.load_state_dict(torch.load(\"stock_lstm.pth\"))\n",
    "model.eval()  # Set to evaluation mode\n",
    "logger.info(\"Model loaded successfully for predictions.\")\n"
   ]
  },
  {
   "cell_type": "code",
   "execution_count": 58,
   "metadata": {},
   "outputs": [
    {
     "name": "stdout",
     "output_type": "stream",
     "text": [
      "Sample Predictions: [119.12818  119.74593  120.215034 120.45599  120.50368 ]\n",
      "Actual Prices: [121.795006 121.23     119.98     120.26159  120.6602  ]\n"
     ]
    }
   ],
   "source": [
    "with torch.no_grad():  # Disable gradient calculations for predictions\n",
    "    y_pred = model(X_test)\n",
    "# Convert predictions back to original scale\n",
    "y_pred = y_pred.numpy()\n",
    "y_pred = scaler.inverse_transform(y_pred)  # Reverse MinMax Scaling\n",
    "y_test_actual = scaler.inverse_transform(y_test.numpy().reshape(-1, 1))\n",
    "\n",
    "# Print a few predictions\n",
    "print(f\"Sample Predictions: {y_pred[:5].flatten()}\")\n",
    "print(f\"Actual Prices: {y_test_actual[:5].flatten()}\")\n"
   ]
  },
  {
   "cell_type": "code",
   "execution_count": 59,
   "metadata": {},
   "outputs": [
    {
     "name": "stderr",
     "output_type": "stream",
     "text": [
      "04/08/2025 14:50:17 - INFO - RMSE: 3.9828\n",
      "04/08/2025 14:50:17 - INFO - MAE: 2.9840\n"
     ]
    },
    {
     "name": "stdout",
     "output_type": "stream",
     "text": [
      "RMSE: 3.9828\n",
      "MAE: 2.9840\n"
     ]
    }
   ],
   "source": [
    "from sklearn.metrics import mean_absolute_error, mean_squared_error\n",
    "import numpy as np\n",
    "\n",
    "rmse = np.sqrt(mean_squared_error(y_test_actual, y_pred))\n",
    "mae = mean_absolute_error(y_test_actual, y_pred)\n",
    "\n",
    "print(f\"RMSE: {rmse:.4f}\")\n",
    "print(f\"MAE: {mae:.4f}\")\n",
    "\n",
    "logger.info(f\"RMSE: {rmse:.4f}\")\n",
    "logger.info(f\"MAE: {mae:.4f}\")\n"
   ]
  },
  {
   "cell_type": "code",
   "execution_count": 60,
   "metadata": {},
   "outputs": [
    {
     "data": {
      "image/png": "[encoded data removed]",
      "text/plain": [
       "<Figure size 1200x600 with 1 Axes>"
      ]
     },
     "metadata": {},
     "output_type": "display_data"
    }
   ],
   "source": [
    "import matplotlib.pyplot as plt\n",
    "\n",
    "plt.figure(figsize=(12, 6))\n",
    "plt.plot(y_test_actual, label=\"Actual Prices\", color=\"blue\")\n",
    "plt.plot(y_pred, label=\"Predicted Prices\", color=\"red\", linestyle=\"dashed\")\n",
    "plt.xlabel(\"Days\")\n",
    "plt.ylabel(\"Stock Price\")\n",
    "plt.title(\"Actual vs. Predicted Stock Prices\")\n",
    "plt.legend()\n",
    "plt.show()\n"
   ]
  },
  {
   "cell_type": "code",
   "execution_count": 61,
   "metadata": {},
   "outputs": [
    {
     "name": "stderr",
     "output_type": "stream",
     "text": [
      "[*********************100%***********************]  1 of 1 completed"
     ]
    },
    {
     "name": "stdout",
     "output_type": "stream",
     "text": [
      "Real-time data successfully processed.\n"
     ]
    },
    {
     "name": "stderr",
     "output_type": "stream",
     "text": [
      "\n"
     ]
    }
   ],
   "source": [
    "def get_latest_stock_price():\n",
    "    \"\"\"Fetch latest NVDA stock price and preprocess for real-time prediction.\"\"\"\n",
    "    latest_data = yf.download(\"NVDA\", period=\"15d\", interval=\"1h\")  # Increase to 15 days\n",
    "    df_latest = latest_data[['Close']]  # Keep only 'Close' price\n",
    "\n",
    "    # Check if we have enough data\n",
    "    if len(df_latest) < 60:\n",
    "        print(f\"Not enough data available. Found only {len(df_latest)} data points.\")\n",
    "        logger.warning(f\"Not enough data available. Found only {len(df_latest)} data points.\")\n",
    "        return None  # Return None instead of crashing\n",
    "\n",
    "    # Scale the last 60 values using MinMaxScaler\n",
    "    scaled_latest = scaler.transform(df_latest.values[-60:].reshape(-1, 1))\n",
    "\n",
    "    return np.array(scaled_latest).reshape(1, 60, 1)  # Reshape for LSTM input\n",
    "\n",
    "# Fetch the latest stock price\n",
    "x_real_time = get_latest_stock_price()\n",
    "\n",
    "# Check if valid data is available\n",
    "if x_real_time is None:\n",
    "    print(\"Skipping prediction due to insufficient data.\")\n",
    "    logger.error(\"Skipping prediction due to insufficient data.\")\n",
    "else:\n",
    "    print(\"Real-time data successfully processed.\")"
   ]
  },
  {
   "cell_type": "code",
   "execution_count": 62,
   "metadata": {},
   "outputs": [
    {
     "name": "stderr",
     "output_type": "stream",
     "text": [
      "04/08/2025 14:50:17 - INFO - Predicted Next NVDA Stock Price: $101.78\n"
     ]
    },
    {
     "name": "stdout",
     "output_type": "stream",
     "text": [
      "Predicted Next NVDA Stock Price: $101.78\n"
     ]
    }
   ],
   "source": [
    "# Predict next stock price if we have enough data\n",
    "if x_real_time is not None:\n",
    "    with torch.no_grad():\n",
    "        predicted_price = model(torch.tensor(x_real_time, dtype=torch.float32))\n",
    "\n",
    "    # Convert back to original scale\n",
    "    predicted_price = scaler.inverse_transform(predicted_price.numpy().reshape(-1, 1))\n",
    "\n",
    "    # Print real-time prediction\n",
    "    print(f\"Predicted Next NVDA Stock Price: ${predicted_price[0][0]:.2f}\")\n",
    "    logger.info(f\"Predicted Next NVDA Stock Price: ${predicted_price[0][0]:.2f}\")\n",
    "else:\n",
    "    print(\"Skipping real-time prediction due to insufficient data.\")\n",
    "    logger.error(\"Skipping real-time prediction due to insufficient data.\")\n"
   ]
  },
  {
   "cell_type": "code",
   "execution_count": 63,
   "metadata": {},
   "outputs": [],
   "source": [
    "def real_time_prediction_loop(interval=600):  # 600 seconds = 10 minutes\n",
    "    \"\"\"Continuously predicts NVDA stock price in real-time at regular intervals.\"\"\"\n",
    "    while True:\n",
    "        x_real_time = get_latest_stock_price()\n",
    "        \n",
    "        if x_real_time is not None:\n",
    "            with torch.no_grad():\n",
    "                predicted_price = model(torch.tensor(x_real_time, dtype=torch.float32))\n",
    "\n",
    "            # Convert back to original scale\n",
    "            predicted_price = scaler.inverse_transform(predicted_price.numpy().reshape(-1, 1))\n",
    "            new_price = predicted_price[0][0]\n",
    "\n",
    "            # Print and log the prediction\n",
    "            logger.info(f\"Real-Time NVDA Prediction: ${predicted_price[0][0]:.2f}\")\n",
    "            prediction_queue.put(new_price)\n",
    "        else:\n",
    "            logger.error(\"Skipping prediction due to insufficient data.\")\n",
    "\n",
    "        time.sleep(interval)  # Wait for the next prediction cycle\n",
    "\n",
    "\n"
   ]
  },
  {
   "cell_type": "markdown",
   "metadata": {},
   "source": []
  },
  {
   "cell_type": "code",
   "execution_count": 64,
   "metadata": {},
   "outputs": [],
   "source": [
    "import matplotlib.pyplot as plt\n",
    "\n",
    "def plot_predictions(y_test_actual, y_pred):\n",
    "    \"\"\"Plots actual vs predicted stock prices.\"\"\"\n",
    "    plt.figure(figsize=(12, 6))\n",
    "    plt.plot(y_test_actual, label=\"Actual Prices\", color=\"blue\")\n",
    "    plt.plot(y_pred, label=\"Predicted Prices\", color=\"red\", linestyle=\"dashed\")\n",
    "    plt.xlabel(\"Time\")\n",
    "    plt.ylabel(\"Stock Price\")\n",
    "    plt.title(\"Actual vs. Predicted NVDA Stock Prices\")\n",
    "    plt.legend()\n",
    "    plt.show()\n"
   ]
  },
  {
   "cell_type": "code",
   "execution_count": 65,
   "metadata": {},
   "outputs": [
    {
     "data": {
      "image/png": "[encoded data removed]",
      "text/plain": [
       "<Figure size 1200x600 with 1 Axes>"
      ]
     },
     "metadata": {},
     "output_type": "display_data"
    }
   ],
   "source": [
    "plot_predictions(y_test_actual, y_pred)\n"
   ]
  },
  {
   "cell_type": "code",
   "execution_count": 66,
   "metadata": {},
   "outputs": [
    {
     "name": "stderr",
     "output_type": "stream",
     "text": [
      "[*********************100%***********************]  1 of 1 completed\n",
      "04/08/2025 14:50:17 - INFO - Real-Time NVDA Prediction: $101.78\n"
     ]
    }
   ],
   "source": [
    "import time\n",
    "import matplotlib.pyplot as plt\n",
    "\n",
    "# Store historical predictions\n",
    "def update_real_time_plot():\n",
    "\n",
    "    \"\"\"Continuously updates the real-time stock price prediction graph.\"\"\"\n",
    "    plt.ion()  # Turn on interactive mode for live updating\n",
    "    fig, ax = plt.subplots(figsize=(12, 6))\n",
    "\n",
    "    real_time_prices = []\n",
    "    timestamps = []\n",
    "\n",
    "    while True:\n",
    "        try:\n",
    "            new_price = prediction_queue.get(timeout=610)  # **Get price safely from queue**\n",
    "            real_time_prices.append(new_price)\n",
    "            timestamps.append(len(real_time_prices))  # Ensure timestamps increment correctly\n",
    "\n",
    "            # **Update the plot without clearing previous points**\n",
    "            ax.clear()\n",
    "            ax.plot(timestamps, real_time_prices, 'ro-', label=\"Real-Time Predicted Price\", linestyle=\"dashed\")\n",
    "\n",
    "            ax.set_xlabel(\"Time (Every 10 min)\")\n",
    "            ax.set_ylabel(\"Stock Price\")\n",
    "            ax.set_title(\"Live NVDA Stock Price Prediction\")\n",
    "            ax.legend()\n",
    "\n",
    "            plt.draw()\n",
    "            plt.pause(600)  # Pause before updating\n",
    "\n",
    "        except queue.Empty:\n",
    "            logger.warning(\"No new predictions received, skipping update.\")\n",
    "\n",
    "# **Start the real-time prediction thread**\n",
    "prediction_thread = threading.Thread(target=real_time_prediction_loop, daemon=True)  # Background thread for fetching predictions\n",
    "prediction_thread.start()\n",
    "\n",
    "# **Run the real-time visualization in the main thread**\n",
    "# update_real_time_plot()\n",
    "\n"
   ]
  },
  {
   "cell_type": "code",
   "execution_count": null,
   "metadata": {},
   "outputs": [],
   "source": []
  }
 ],
 "metadata": {
  "kernelspec": {
   "display_name": "Python (myenv)",
   "language": "python",
   "name": "myenv"
  },
  "language_info": {
   "codemirror_mode": {
    "name": "ipython",
    "version": 3
   },
   "file_extension": ".py",
   "mimetype": "text/x-python",
   "name": "python",
   "nbconvert_exporter": "python",
   "pygments_lexer": "ipython3",
   "version": "3.13.2"
  }
 },
 "nbformat": 4,
 "nbformat_minor": 2
}
